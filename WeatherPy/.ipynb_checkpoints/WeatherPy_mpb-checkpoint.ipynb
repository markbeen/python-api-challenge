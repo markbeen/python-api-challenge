{
 "cells": [
  {
   "cell_type": "code",
   "execution_count": 1,
   "metadata": {},
   "outputs": [
    {
     "name": "stdout",
     "output_type": "stream",
     "text": [
      "9d1bc9c17541af5da45aa33626c8a950\n"
     ]
    }
   ],
   "source": [
    "## get dependencies\n",
    "# Dependencies\n",
    "import pandas as pd\n",
    "import numpy as np\n",
    "import json\n",
    "import requests\n",
    "from config import api_key\n",
    "from config import g_key\n",
    "from citipy import citipy\n",
    "print(api_key)"
   ]
  },
  {
   "cell_type": "code",
   "execution_count": 2,
   "metadata": {},
   "outputs": [],
   "source": [
    "## install citipy (only required once)\n",
    "#pip install citipy\n",
    "\n",
    "# I tried for some time to get a large sample of cities to query using citipy. The most I could get was ~150.\n",
    "# Therefore, I ended up downloading all cities that openweather tracks (~22,000), and then just sampled 500 of them\n",
    "# using df.sample(n=500)"
   ]
  },
  {
   "cell_type": "code",
   "execution_count": 3,
   "metadata": {},
   "outputs": [
    {
     "data": {
      "text/plain": [
       "22635"
      ]
     },
     "execution_count": 3,
     "metadata": {},
     "output_type": "execute_result"
    }
   ],
   "source": [
    "## I downloaded the json file from openweather, and then created a dataframe from it:\n",
    "cityList = pd.read_json(\"current.city.list.json\")\n",
    "len(cityList)"
   ]
  },
  {
   "cell_type": "code",
   "execution_count": 4,
   "metadata": {},
   "outputs": [
    {
     "data": {
      "text/plain": [
       "500"
      ]
     },
     "execution_count": 4,
     "metadata": {},
     "output_type": "execute_result"
    }
   ],
   "source": [
    "## Randomly sample 500 cities from the json file:\n",
    "sampleCity = cityList.sample(n=500)\n",
    "len(sampleCity)"
   ]
  },
  {
   "cell_type": "code",
   "execution_count": 5,
   "metadata": {},
   "outputs": [],
   "source": [
    "names = list(sampleCity.columns) \n",
    "countryNames = sampleCity['country']\n",
    "cityNames = sampleCity['name']"
   ]
  },
  {
   "cell_type": "code",
   "execution_count": 7,
   "metadata": {},
   "outputs": [
    {
     "data": {
      "text/html": [
       "<div>\n",
       "<style scoped>\n",
       "    .dataframe tbody tr th:only-of-type {\n",
       "        vertical-align: middle;\n",
       "    }\n",
       "\n",
       "    .dataframe tbody tr th {\n",
       "        vertical-align: top;\n",
       "    }\n",
       "\n",
       "    .dataframe thead th {\n",
       "        text-align: right;\n",
       "    }\n",
       "</style>\n",
       "<table border=\"1\" class=\"dataframe\">\n",
       "  <thead>\n",
       "    <tr style=\"text-align: right;\">\n",
       "      <th></th>\n",
       "      <th>City</th>\n",
       "      <th>Country</th>\n",
       "    </tr>\n",
       "  </thead>\n",
       "  <tbody>\n",
       "    <tr>\n",
       "      <th>0</th>\n",
       "      <td>Poperinge</td>\n",
       "      <td>BE</td>\n",
       "    </tr>\n",
       "    <tr>\n",
       "      <th>1</th>\n",
       "      <td>Bibai</td>\n",
       "      <td>JP</td>\n",
       "    </tr>\n",
       "    <tr>\n",
       "      <th>2</th>\n",
       "      <td>Akhaltsikhe</td>\n",
       "      <td>GE</td>\n",
       "    </tr>\n",
       "    <tr>\n",
       "      <th>3</th>\n",
       "      <td>Eloi Mendes</td>\n",
       "      <td>BR</td>\n",
       "    </tr>\n",
       "    <tr>\n",
       "      <th>4</th>\n",
       "      <td>Maicao</td>\n",
       "      <td>CO</td>\n",
       "    </tr>\n",
       "  </tbody>\n",
       "</table>\n",
       "</div>"
      ],
      "text/plain": [
       "          City Country\n",
       "0    Poperinge      BE\n",
       "1        Bibai      JP\n",
       "2  Akhaltsikhe      GE\n",
       "3  Eloi Mendes      BR\n",
       "4       Maicao      CO"
      ]
     },
     "execution_count": 7,
     "metadata": {},
     "output_type": "execute_result"
    }
   ],
   "source": [
    "cityData = {'City': cityNames, 'Country': countryNames}\n",
    "cityWeather = pd.DataFrame(data=cityData)\n",
    "cityWeather.reset_index(drop=True, inplace=True)\n",
    "cityWeather.head()"
   ]
  },
  {
   "cell_type": "code",
   "execution_count": 8,
   "metadata": {},
   "outputs": [
    {
     "data": {
      "text/html": [
       "<div>\n",
       "<style scoped>\n",
       "    .dataframe tbody tr th:only-of-type {\n",
       "        vertical-align: middle;\n",
       "    }\n",
       "\n",
       "    .dataframe tbody tr th {\n",
       "        vertical-align: top;\n",
       "    }\n",
       "\n",
       "    .dataframe thead th {\n",
       "        text-align: right;\n",
       "    }\n",
       "</style>\n",
       "<table border=\"1\" class=\"dataframe\">\n",
       "  <thead>\n",
       "    <tr style=\"text-align: right;\">\n",
       "      <th></th>\n",
       "      <th>City</th>\n",
       "      <th>Country</th>\n",
       "      <th>Temperature</th>\n",
       "      <th>Humidity</th>\n",
       "      <th>Cloudiness</th>\n",
       "      <th>Wind Speed</th>\n",
       "      <th>Latitude</th>\n",
       "      <th>Longitude</th>\n",
       "    </tr>\n",
       "  </thead>\n",
       "  <tbody>\n",
       "    <tr>\n",
       "      <th>0</th>\n",
       "      <td>Poperinge</td>\n",
       "      <td>BE</td>\n",
       "      <td></td>\n",
       "      <td></td>\n",
       "      <td></td>\n",
       "      <td></td>\n",
       "      <td></td>\n",
       "      <td></td>\n",
       "    </tr>\n",
       "    <tr>\n",
       "      <th>1</th>\n",
       "      <td>Bibai</td>\n",
       "      <td>JP</td>\n",
       "      <td></td>\n",
       "      <td></td>\n",
       "      <td></td>\n",
       "      <td></td>\n",
       "      <td></td>\n",
       "      <td></td>\n",
       "    </tr>\n",
       "    <tr>\n",
       "      <th>2</th>\n",
       "      <td>Akhaltsikhe</td>\n",
       "      <td>GE</td>\n",
       "      <td></td>\n",
       "      <td></td>\n",
       "      <td></td>\n",
       "      <td></td>\n",
       "      <td></td>\n",
       "      <td></td>\n",
       "    </tr>\n",
       "    <tr>\n",
       "      <th>3</th>\n",
       "      <td>Eloi Mendes</td>\n",
       "      <td>BR</td>\n",
       "      <td></td>\n",
       "      <td></td>\n",
       "      <td></td>\n",
       "      <td></td>\n",
       "      <td></td>\n",
       "      <td></td>\n",
       "    </tr>\n",
       "    <tr>\n",
       "      <th>4</th>\n",
       "      <td>Maicao</td>\n",
       "      <td>CO</td>\n",
       "      <td></td>\n",
       "      <td></td>\n",
       "      <td></td>\n",
       "      <td></td>\n",
       "      <td></td>\n",
       "      <td></td>\n",
       "    </tr>\n",
       "  </tbody>\n",
       "</table>\n",
       "</div>"
      ],
      "text/plain": [
       "          City Country Temperature Humidity Cloudiness Wind Speed Latitude  \\\n",
       "0    Poperinge      BE                                                       \n",
       "1        Bibai      JP                                                       \n",
       "2  Akhaltsikhe      GE                                                       \n",
       "3  Eloi Mendes      BR                                                       \n",
       "4       Maicao      CO                                                       \n",
       "\n",
       "  Longitude  \n",
       "0            \n",
       "1            \n",
       "2            \n",
       "3            \n",
       "4            "
      ]
     },
     "execution_count": 8,
     "metadata": {},
     "output_type": "execute_result"
    }
   ],
   "source": [
    "## append desired weather parameters as new series to city dataframe\n",
    "cityWeather['Temperature'] = \"\"\n",
    "cityWeather['Humidity'] = \"\"\n",
    "cityWeather['Cloudiness'] = \"\"\n",
    "cityWeather['Wind Speed'] = \"\"\n",
    "cityWeather['Latitude'] = \"\"\n",
    "cityWeather['Longitude'] = \"\"\n",
    "cityWeather.head()"
   ]
  },
  {
   "cell_type": "code",
   "execution_count": 9,
   "metadata": {},
   "outputs": [],
   "source": [
    "## define the location of the weather api (remember: the ?q means that you can insert a variable)\n",
    "weather_url = \"http://api.openweathermap.org/data/2.5/weather?\"\n",
    "#weather_url = \"http://api.openweathermap.org/data/2.5/weather?\"           \n",
    "\n",
    "# define desired weather units\n",
    "units = 'imperial'"
   ]
  },
  {
   "cell_type": "code",
   "execution_count": 10,
   "metadata": {},
   "outputs": [],
   "source": [
    "record = 0\n",
    "for index, row in cityWeather.iterrows():\n",
    "    theCity = row['City']\n",
    "    theCountry = row['Country']\n",
    "    query_url = weather_url + \"appid=\" + api_key + '&units=' + units + \"&q=\" + theCity + ',' + theCountry\n",
    "    try:\n",
    "        weather_response = requests.get(query_url)\n",
    "        weather_json = weather_response.json()\n",
    "        latitude = weather_json[\"coord\"][\"lat\"]\n",
    "        longitude = weather_json[\"coord\"][\"lon\"]\n",
    "        temp = weather_json[\"main\"][\"temp\"]\n",
    "        humidity = weather_json[\"main\"][\"humidity\"]\n",
    "        cloud = weather_json[\"clouds\"][\"all\"]\n",
    "        wind = weather_json[\"wind\"][\"speed\"]\n",
    "        cityWeather.loc[index,\"Temperature\"] = temp\n",
    "        cityWeather.loc[index, \"Humidity\"]= humidity\n",
    "        cityWeather.loc[index, \"Wind Speed\"] = wind\n",
    "        cityWeather.loc[index, \"Cloudiness\"] = cloud\n",
    "        cityWeather.loc[index,\"Latitude\"] = latitude\n",
    "        cityWeather.loc[index, \"Longitude\"] =longitude\n",
    "        print(query_url)\n",
    "    except:\n",
    "        print('error')\n",
    "    record += 1\n",
    "    \n"
   ]
  },
  {
   "cell_type": "code",
   "execution_count": 11,
   "metadata": {},
   "outputs": [
    {
     "data": {
      "text/html": [
       "<div>\n",
       "<style scoped>\n",
       "    .dataframe tbody tr th:only-of-type {\n",
       "        vertical-align: middle;\n",
       "    }\n",
       "\n",
       "    .dataframe tbody tr th {\n",
       "        vertical-align: top;\n",
       "    }\n",
       "\n",
       "    .dataframe thead th {\n",
       "        text-align: right;\n",
       "    }\n",
       "</style>\n",
       "<table border=\"1\" class=\"dataframe\">\n",
       "  <thead>\n",
       "    <tr style=\"text-align: right;\">\n",
       "      <th></th>\n",
       "      <th>City</th>\n",
       "      <th>Country</th>\n",
       "      <th>Temperature</th>\n",
       "      <th>Humidity</th>\n",
       "      <th>Cloudiness</th>\n",
       "      <th>Wind Speed</th>\n",
       "      <th>Latitude</th>\n",
       "      <th>Longitude</th>\n",
       "      <th>Real Latitude</th>\n",
       "      <th>Real Longitude</th>\n",
       "    </tr>\n",
       "  </thead>\n",
       "  <tbody>\n",
       "    <tr>\n",
       "      <th>0</th>\n",
       "      <td>Poperinge</td>\n",
       "      <td>BE</td>\n",
       "      <td>60.51</td>\n",
       "      <td>90</td>\n",
       "      <td>6</td>\n",
       "      <td>7.72</td>\n",
       "      <td></td>\n",
       "      <td></td>\n",
       "      <td>50.85</td>\n",
       "      <td>2.69</td>\n",
       "    </tr>\n",
       "    <tr>\n",
       "      <th>1</th>\n",
       "      <td>Bibai</td>\n",
       "      <td>JP</td>\n",
       "      <td>57.76</td>\n",
       "      <td>93</td>\n",
       "      <td>40</td>\n",
       "      <td>3.36</td>\n",
       "      <td></td>\n",
       "      <td></td>\n",
       "      <td>43.32</td>\n",
       "      <td>141.86</td>\n",
       "    </tr>\n",
       "    <tr>\n",
       "      <th>2</th>\n",
       "      <td>Akhaltsikhe</td>\n",
       "      <td>GE</td>\n",
       "      <td>55.08</td>\n",
       "      <td>74</td>\n",
       "      <td>35</td>\n",
       "      <td>0.51</td>\n",
       "      <td></td>\n",
       "      <td></td>\n",
       "      <td>41.64</td>\n",
       "      <td>42.98</td>\n",
       "    </tr>\n",
       "    <tr>\n",
       "      <th>3</th>\n",
       "      <td>Eloi Mendes</td>\n",
       "      <td>BR</td>\n",
       "      <td>68.04</td>\n",
       "      <td>69</td>\n",
       "      <td>90</td>\n",
       "      <td>7.49</td>\n",
       "      <td></td>\n",
       "      <td></td>\n",
       "      <td>-21.61</td>\n",
       "      <td>-45.57</td>\n",
       "    </tr>\n",
       "    <tr>\n",
       "      <th>4</th>\n",
       "      <td>Maicao</td>\n",
       "      <td>CO</td>\n",
       "      <td>88.45</td>\n",
       "      <td>60</td>\n",
       "      <td>98</td>\n",
       "      <td>6.49</td>\n",
       "      <td></td>\n",
       "      <td></td>\n",
       "      <td>11.38</td>\n",
       "      <td>-72.24</td>\n",
       "    </tr>\n",
       "  </tbody>\n",
       "</table>\n",
       "</div>"
      ],
      "text/plain": [
       "          City Country Temperature Humidity Cloudiness Wind Speed Latitude  \\\n",
       "0    Poperinge      BE       60.51       90          6       7.72            \n",
       "1        Bibai      JP       57.76       93         40       3.36            \n",
       "2  Akhaltsikhe      GE       55.08       74         35       0.51            \n",
       "3  Eloi Mendes      BR       68.04       69         90       7.49            \n",
       "4       Maicao      CO       88.45       60         98       6.49            \n",
       "\n",
       "  Longitude  Real Latitude  Real Longitude  \n",
       "0                    50.85            2.69  \n",
       "1                    43.32          141.86  \n",
       "2                    41.64           42.98  \n",
       "3                   -21.61          -45.57  \n",
       "4                    11.38          -72.24  "
      ]
     },
     "execution_count": 11,
     "metadata": {},
     "output_type": "execute_result"
    }
   ],
   "source": [
    "cityWeather.head()"
   ]
  },
  {
   "cell_type": "code",
   "execution_count": null,
   "metadata": {},
   "outputs": [],
   "source": [
    "cityWeather.to_csv('cityWeatherData.csv')"
   ]
  },
  {
   "cell_type": "code",
   "execution_count": null,
   "metadata": {},
   "outputs": [],
   "source": []
  },
  {
   "cell_type": "code",
   "execution_count": null,
   "metadata": {},
   "outputs": [],
   "source": []
  },
  {
   "cell_type": "code",
   "execution_count": null,
   "metadata": {},
   "outputs": [],
   "source": []
  },
  {
   "cell_type": "code",
   "execution_count": null,
   "metadata": {},
   "outputs": [],
   "source": []
  },
  {
   "cell_type": "code",
   "execution_count": null,
   "metadata": {},
   "outputs": [],
   "source": []
  },
  {
   "cell_type": "code",
   "execution_count": null,
   "metadata": {},
   "outputs": [],
   "source": []
  },
  {
   "cell_type": "code",
   "execution_count": null,
   "metadata": {},
   "outputs": [],
   "source": []
  },
  {
   "cell_type": "code",
   "execution_count": null,
   "metadata": {},
   "outputs": [],
   "source": []
  }
 ],
 "metadata": {
  "kernelspec": {
   "display_name": "Python 3",
   "language": "python",
   "name": "python3"
  },
  "language_info": {
   "codemirror_mode": {
    "name": "ipython",
    "version": 3
   },
   "file_extension": ".py",
   "mimetype": "text/x-python",
   "name": "python",
   "nbconvert_exporter": "python",
   "pygments_lexer": "ipython3",
   "version": "3.8.3"
  }
 },
 "nbformat": 4,
 "nbformat_minor": 4
}
